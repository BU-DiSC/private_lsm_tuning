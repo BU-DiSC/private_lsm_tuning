{
 "cells": [
  {
   "cell_type": "code",
   "execution_count": 38,
   "id": "38e0f9da-45c0-4a3c-9462-202592b4b1b8",
   "metadata": {},
   "outputs": [],
   "source": [
    "import sys\n",
    "import os\n",
    "import numpy as np\n",
    "from pprint import pprint"
   ]
  },
  {
   "cell_type": "code",
   "execution_count": 39,
   "id": "77a27829-fb23-42c9-b4cf-fdf2c19ac9ac",
   "metadata": {},
   "outputs": [],
   "source": [
    "sys.path.append('..')\n",
    "\n",
    "from endure.lsm import (\n",
    "    Cost,\n",
    "    ClassicGen,\n",
    "    LSMBounds,\n",
    "    Workload,\n",
    "    System,\n",
    "    Policy,\n",
    "    LSMDesign\n",
    ")\n",
    "from endure.solver import ClassicSolver"
   ]
  },
  {
   "cell_type": "markdown",
   "id": "fd8856d4-5a2b-452e-a4de-241efe22bb35",
   "metadata": {},
   "source": [
    "# Defining Our Environment\n",
    "\n",
    "Let us first create our environment to tune an LSM tree. We start with the `LSMBounds` class, which contains the minimum and maximum values for each variable. We can start with the default initialization.\n",
    "\n",
    "The bounds will be passed in other places to keep all values in check."
   ]
  },
  {
   "cell_type": "code",
   "execution_count": 40,
   "id": "88bc5fa8-7049-4567-a643-656e63f89750",
   "metadata": {},
   "outputs": [
    {
     "name": "stdout",
     "output_type": "stream",
     "text": [
      "LSMBounds(max_considered_levels=20,\n",
      "          bits_per_elem_range=(1, 10),\n",
      "          size_ratio_range=(2, 31),\n",
      "          page_sizes=(4, 8, 16),\n",
      "          entry_sizes=(1024, 2048, 4096, 8192),\n",
      "          memory_budget_range=(5.0, 20.0),\n",
      "          selectivity_range=(1e-07, 1e-09),\n",
      "          elements_range=(100000000, 1000000000))\n"
     ]
    }
   ],
   "source": [
    "bounds = LSMBounds()\n",
    "pprint(bounds)"
   ]
  },
  {
   "cell_type": "markdown",
   "id": "61e9e565-79a6-42c2-b983-c989b22ab670",
   "metadata": {},
   "source": [
    "We will create a data generator to create some random workloads and random designs."
   ]
  },
  {
   "cell_type": "code",
   "execution_count": 41,
   "id": "79f132b0-0fe3-40d2-b030-0ae44bc6d578",
   "metadata": {},
   "outputs": [],
   "source": [
    "# generator is initialized with just bounds, you can add a random seed to make results reproducible\n",
    "gen = ClassicGen(bounds, seed=42)"
   ]
  },
  {
   "cell_type": "code",
   "execution_count": 42,
   "id": "432baead-1844-473c-9b09-b3fbeb6be986",
   "metadata": {},
   "outputs": [
    {
     "name": "stdout",
     "output_type": "stream",
     "text": [
      "Workload(z0=np.float64(0.439),\n",
      "         z1=np.float64(0.335),\n",
      "         q=np.float64(0.08499999999999996),\n",
      "         w=np.float64(0.14100000000000001))\n"
     ]
    }
   ],
   "source": [
    "workload = gen.sample_workload()\n",
    "pprint(workload)"
   ]
  },
  {
   "cell_type": "code",
   "execution_count": 43,
   "id": "81540bef-ffe4-419d-8cc0-0c1096b705aa",
   "metadata": {},
   "outputs": [
    {
     "name": "stdout",
     "output_type": "stream",
     "text": [
      "System(entry_size=np.int64(1024),\n",
      "       selectivity=9.067644255912269e-08,\n",
      "       entries_per_page=np.float64(128.0),\n",
      "       num_entries=np.int64(762177133),\n",
      "       mem_budget=19.63433527455134,\n",
      "       phi=1.0)\n"
     ]
    }
   ],
   "source": [
    "system = gen.sample_system()\n",
    "pprint(system)"
   ]
  },
  {
   "cell_type": "code",
   "execution_count": 44,
   "id": "9d0a68ef-031e-4fd3-8ada-bb374d04623a",
   "metadata": {},
   "outputs": [
    {
     "name": "stdout",
     "output_type": "stream",
     "text": [
      "LSMDesign(bits_per_elem=np.float64(15.569),\n",
      "          size_ratio=np.int64(24),\n",
      "          policy=<Policy.Tiering: 0>,\n",
      "          kapacity=())\n"
     ]
    }
   ],
   "source": [
    "design = gen.sample_design(system)\n",
    "pprint(design)"
   ]
  },
  {
   "cell_type": "markdown",
   "id": "b3ce0b89-0073-43b3-a8bb-10b0065037b8",
   "metadata": {},
   "source": [
    "You can see designs have to obey restrictions on the system. For example, the `design.bits_per_elem < system.mem_budget` as we cannot allocate more memory than we have."
   ]
  },
  {
   "cell_type": "markdown",
   "id": "609ea966-98fb-42f3-8cfd-b7aad448ff88",
   "metadata": {},
   "source": [
    "# Creating a tuning\n",
    "\n",
    "Let us try to create a tuning now. We have our environment set, now we can create a solver class and ask it for a tuning."
   ]
  },
  {
   "cell_type": "code",
   "execution_count": 45,
   "id": "40e1f2ca-886e-4518-9127-bdd49f63dde6",
   "metadata": {},
   "outputs": [],
   "source": [
    "solver = ClassicSolver(bounds)"
   ]
  },
  {
   "cell_type": "code",
   "execution_count": 46,
   "id": "89a04622-1a66-4114-8a88-c18229f868ba",
   "metadata": {},
   "outputs": [
    {
     "name": "stdout",
     "output_type": "stream",
     "text": [
      "LSMDesign(bits_per_elem=np.float64(9.043625464584622),\n",
      "          size_ratio=np.float64(30.0),\n",
      "          policy=<Policy.Leveling: 1>,\n",
      "          kapacity=())\n"
     ]
    }
   ],
   "source": [
    "design, scipy_opt_obj = solver.get_nominal_design(system, workload)\n",
    "pprint(design)"
   ]
  },
  {
   "cell_type": "markdown",
   "id": "490d5dbe-257b-419d-af0f-fea21e3fd77d",
   "metadata": {},
   "source": [
    "The solver will spit out both a design, and the raw scipy optimizer object. This is just useful as a sanity check to see if the optimization process terminated successfully or not."
   ]
  },
  {
   "cell_type": "code",
   "execution_count": 47,
   "id": "37cd13ed-4190-4f97-ba2a-757bcdd870c2",
   "metadata": {},
   "outputs": [
    {
     "data": {
      "text/plain": [
       " message: Optimization terminated successfully\n",
       " success: True\n",
       "  status: 0\n",
       "     fun: 0.5466902873359518\n",
       "       x: [ 9.044e+00  3.000e+01]\n",
       "     nit: 21\n",
       "     jac: [-1.093e-05 -1.064e-04]\n",
       "    nfev: 63\n",
       "    njev: 21"
      ]
     },
     "execution_count": 47,
     "metadata": {},
     "output_type": "execute_result"
    }
   ],
   "source": [
    "scipy_opt_obj"
   ]
  },
  {
   "cell_type": "markdown",
   "id": "f5e26901-0350-4ccb-b267-c2ad3762efb2",
   "metadata": {},
   "source": [
    "Sometimes you may find that the robust solver will get stuck and have issues finding the correct tuning (generally you'll see this in the form of errors, not all of them indicate an unsuccesful tuning)."
   ]
  },
  {
   "cell_type": "code",
   "execution_count": 48,
   "id": "545b4a15-f063-4043-937e-3aea270678bb",
   "metadata": {},
   "outputs": [
    {
     "name": "stdout",
     "output_type": "stream",
     "text": [
      "LSMDesign(bits_per_elem=np.float64(2.805449723312165),\n",
      "          size_ratio=np.float64(30.0),\n",
      "          policy=<Policy.Leveling: 1>,\n",
      "          kapacity=())\n"
     ]
    },
    {
     "name": "stderr",
     "output_type": "stream",
     "text": [
      "/Users/ndhuynh/repos/private_lsm_tuning/notebook/../endure/solver/util.py:19: RuntimeWarning: overflow encountered in exp\n",
      "  return np.exp(input) - 1\n",
      "/Users/ndhuynh/miniconda3/envs/axe/lib/python3.11/site-packages/scipy/optimize/_slsqp_py.py:435: RuntimeWarning: Values in x were outside bounds during a minimize step, clipping to bounds\n",
      "  fx = wrapped_fun(x)\n"
     ]
    }
   ],
   "source": [
    "robust_design, scipy_opt_robust_obj = solver.get_robust_design(system, workload, rho=1)\n",
    "pprint(robust_design)"
   ]
  },
  {
   "cell_type": "code",
   "execution_count": 49,
   "id": "245336a7-ebac-4594-84a3-c87f598b687d",
   "metadata": {},
   "outputs": [
    {
     "data": {
      "text/plain": [
       " message: Optimization terminated successfully\n",
       " success: True\n",
       "  status: 0\n",
       "     fun: 1.3986303056113707\n",
       "       x: [ 2.805e+00  3.000e+01  3.707e-01  1.028e+00]\n",
       "     nit: 21\n",
       "     jac: [-2.766e-05 -7.179e-03  2.897e-03  1.429e-03]\n",
       "    nfev: 108\n",
       "    njev: 21"
      ]
     },
     "execution_count": 49,
     "metadata": {},
     "output_type": "execute_result"
    }
   ],
   "source": [
    "scipy_opt_robust_obj"
   ]
  },
  {
   "cell_type": "markdown",
   "id": "efc02ee3-4b4a-423e-b5a5-677babbe44a5",
   "metadata": {},
   "source": [
    "What we've found is changing the initial starting point to the original nominal tuning can help alleviate these issues."
   ]
  },
  {
   "cell_type": "code",
   "execution_count": 50,
   "id": "39a80d6d-972e-49e9-954d-f8c617c522ac",
   "metadata": {},
   "outputs": [],
   "source": [
    "robust_design, _ = solver.get_robust_design(\n",
    "    system=system,\n",
    "    workload=workload,\n",
    "    rho=1,\n",
    "    init_args=[design.bits_per_elem, design.size_ratio, 1, 1]\n",
    ")"
   ]
  },
  {
   "cell_type": "code",
   "execution_count": 51,
   "id": "4b0688f8-b90d-454c-b099-145e85650406",
   "metadata": {},
   "outputs": [
    {
     "data": {
      "text/plain": [
       "LSMDesign(bits_per_elem=np.float64(2.8045314892604845), size_ratio=np.float64(30.0), policy=<Policy.Leveling: 1>, kapacity=())"
      ]
     },
     "execution_count": 51,
     "metadata": {},
     "output_type": "execute_result"
    }
   ],
   "source": [
    "robust_design"
   ]
  },
  {
   "cell_type": "markdown",
   "id": "6c83ae92-8164-4a59-b777-6a29ae7a5cf6",
   "metadata": {},
   "source": [
    "# Evaluating Tunings\n",
    "\n",
    "To evaluate our designs, we can use the cost model to get immediate feedback. Treat this as if we were just running a simulation in place of executing a workload on a DB (which we'll do at some point!).\n",
    "\n",
    "Here if we apply the initial workload on the nominal and robust tuning, we should expect the robust tuning to do worse, as the executed workload is the same as the tuned workload."
   ]
  },
  {
   "cell_type": "code",
   "execution_count": 52,
   "id": "ee401897-54e9-4af0-8c85-5afdd6c8c738",
   "metadata": {},
   "outputs": [],
   "source": [
    "cost = Cost(bounds.max_considered_levels)"
   ]
  },
  {
   "cell_type": "code",
   "execution_count": 53,
   "id": "c47d54d9-18b1-4297-b27d-099c53e3772f",
   "metadata": {},
   "outputs": [
    {
     "data": {
      "text/plain": [
       "0.659779650632332"
      ]
     },
     "execution_count": 53,
     "metadata": {},
     "output_type": "execute_result"
    }
   ],
   "source": [
    "cost.calc_cost(robust_design, system, workload)"
   ]
  },
  {
   "cell_type": "code",
   "execution_count": 54,
   "id": "27cd411b-b22e-4748-9661-e226212745cd",
   "metadata": {},
   "outputs": [
    {
     "data": {
      "text/plain": [
       "0.5466902873359518"
      ]
     },
     "execution_count": 54,
     "metadata": {},
     "output_type": "execute_result"
    }
   ],
   "source": [
    "cost.calc_cost(design, system, workload)"
   ]
  },
  {
   "cell_type": "markdown",
   "id": "16e1985f-4d39-4a5d-a79e-d1fefb9126ae",
   "metadata": {},
   "source": [
    "Lets try applying a different workload to both designs. We can check how far away workloads are using the KL-Div. We will use scipys standard implementation [rel_tr (docs)](https://docs.scipy.org/doc/scipy/reference/generated/scipy.special.rel_entr.html#scipy.special.rel_entr)."
   ]
  },
  {
   "cell_type": "code",
   "execution_count": 55,
   "id": "ca4346b0-f371-498a-8210-f270639fd8a1",
   "metadata": {},
   "outputs": [],
   "source": [
    "from scipy.special import rel_entr"
   ]
  },
  {
   "cell_type": "code",
   "execution_count": 56,
   "id": "d39db561-1d7a-46ca-b24a-27475f204680",
   "metadata": {},
   "outputs": [],
   "source": [
    "# Note that KL divergence is NOT symmetric, in other words div(a, b) != div(b, a)\n",
    "def kl_div(w_hat: Workload, w_init: Workload):\n",
    "    w_left = np.array([w_hat.z0, w_hat.z1, w_hat.q, w_hat.w])\n",
    "    w_right = np.array([w_init.z0, w_init.z1, w_init.q, w_init.w])\n",
    "    return np.sum(rel_entr(w_left, w_right))"
   ]
  },
  {
   "cell_type": "code",
   "execution_count": 57,
   "id": "2d702d65-8061-4c23-81f1-c7c0c95d06c8",
   "metadata": {},
   "outputs": [
    {
     "name": "stdout",
     "output_type": "stream",
     "text": [
      "Workload(z0=0.1, z1=0.1, q=0.7, w=0.1)\n"
     ]
    }
   ],
   "source": [
    "new_workload = Workload(z0=0.1, z1=0.1, q=0.7, w=0.1)\n",
    "pprint(new_workload)"
   ]
  },
  {
   "cell_type": "code",
   "execution_count": 67,
   "id": "7564eb4c-aef1-4261-9511-f77de14e2f8d",
   "metadata": {},
   "outputs": [
    {
     "name": "stdout",
     "output_type": "stream",
     "text": [
      "rho.item()=1.1727124272557485\n"
     ]
    }
   ],
   "source": [
    "rho = kl_div(new_workload, workload)\n",
    "print(f'{rho.item()=}')"
   ]
  },
  {
   "cell_type": "code",
   "execution_count": 58,
   "id": "3c8340f4-f373-4ed7-8e19-26da4272bca8",
   "metadata": {},
   "outputs": [
    {
     "data": {
      "text/plain": [
       "1.3864055077210482"
      ]
     },
     "execution_count": 58,
     "metadata": {},
     "output_type": "execute_result"
    }
   ],
   "source": [
    "cost.calc_cost(robust_design, system, new_workload)"
   ]
  },
  {
   "cell_type": "code",
   "execution_count": 59,
   "id": "497a4279-2f57-4edb-8ea7-b9ea4693e069",
   "metadata": {},
   "outputs": [
    {
     "data": {
      "text/plain": [
       "1.4540570024583315"
      ]
     },
     "execution_count": 59,
     "metadata": {},
     "output_type": "execute_result"
    }
   ],
   "source": [
    "cost.calc_cost(design, system, new_workload)"
   ]
  },
  {
   "cell_type": "code",
   "execution_count": null,
   "id": "c424dbd9-a5d8-4289-8ece-9af715fcf118",
   "metadata": {},
   "outputs": [],
   "source": []
  },
  {
   "cell_type": "markdown",
   "id": "d5d254e4-b8ad-4a67-b96b-07648315aa14",
   "metadata": {},
   "source": [
    "We can see the new owrk"
   ]
  }
 ],
 "metadata": {
  "kernelspec": {
   "display_name": "Python 3 (ipykernel)",
   "language": "python",
   "name": "python3"
  },
  "language_info": {
   "codemirror_mode": {
    "name": "ipython",
    "version": 3
   },
   "file_extension": ".py",
   "mimetype": "text/x-python",
   "name": "python",
   "nbconvert_exporter": "python",
   "pygments_lexer": "ipython3",
   "version": "3.11.11"
  }
 },
 "nbformat": 4,
 "nbformat_minor": 5
}
